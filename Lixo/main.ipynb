{
 "cells": [
  {
   "cell_type": "code",
   "execution_count": 38,
   "metadata": {},
   "outputs": [],
   "source": [
    "import re\n",
    "from datetime import date\n",
    "from pathlib import Path\n",
    "from pprint import pprint"
   ]
  },
  {
   "cell_type": "code",
   "execution_count": 39,
   "metadata": {},
   "outputs": [],
   "source": [
    "# Identificacao do tipo de SO para decidir qual será a base do caminho de arquivos e identificar se existe a pasta Downloads\n",
    "\n",
    "def finder_files():\n",
    "    caminho = Path(Path.home(), \"Downloads\")\n",
    "    if caminho.is_dir():\n",
    "        return caminho\n",
    "    else:\n",
    "        return str(f\"Caminho nao encontrado: {caminho}!\")\n",
    "\n",
    "#teste = finder_files()\n",
    "#print(teste)"
   ]
  },
  {
   "cell_type": "code",
   "execution_count": 40,
   "metadata": {},
   "outputs": [],
   "source": [
    "# Extracao e filtragem dos arquivos da pasta Downloads de favoritos do Chrome\n",
    "\n",
    "def filter_files():\n",
    "    regex = r\".+(\\w{9}_\\d{2}_\\d{2}_\\d{4})\"\n",
    "    arquivos = list(Path(finder_files()).glob(\"favoritos_*.html\"))\n",
    "    htmls = [str(arquivo) for arquivo in arquivos]\n",
    "    return list(filter(lambda html: Path(html) if re.match(regex, html) else '', htmls))\n",
    "\n",
    "#teste = filter_files()\n",
    "#print(len(teste), \"itens\")\n",
    "#print(teste)"
   ]
  },
  {
   "cell_type": "markdown",
   "metadata": {},
   "source": [
    "Transformação:\n",
    "\n",
    "de => ['/home/diaspedro/Downloads/favoritos_16_04_2020.html', '/home/diaspedro/Downloads/favoritos_21_03_2022.html', '/home/diaspedro/Downloads/favoritos_31_07_1995.html', '/home/diaspedro/Downloads/favoritos_24_05_2022.html', '/home/diaspedro/Downloads/favoritos_12_07_2022.html', '/home/diaspedro/Downloads/favoritos_22_04_2021.html', '/home/diaspedro/Downloads/favoritos_27_04_2019.html', '/home/diaspedro/Downloads/favoritos_27_04_2022.html', '/home/diaspedro/Downloads/favoritos_30_05_2022.html', '/home/diaspedro/Downloads/favoritos_07_03_2022.html']\n",
    "\n",
    "meio = [\n",
    "    {'date1': {'nome1': 'xxx', 'path1': 'yyy'}},\n",
    "    {'date2': {'nome2': 'xxx', 'path2': 'yyy'}}\n",
    "]\n",
    "\n",
    "para => {\n",
    "    'position1': {'nome1': '', 'date1': '', 'path1': ''},\n",
    "    'position2': {'nome2': '', 'date2': '', 'path2': ''}\n",
    "}"
   ]
  },
  {
   "cell_type": "code",
   "execution_count": 44,
   "metadata": {},
   "outputs": [
    {
     "name": "stdout",
     "output_type": "stream",
     "text": [
      "{'Date': datetime.date(2020, 4, 16), 'Data': {'position': 'mais novo', 'name': 'favoritos_16_04_2020.html', 'path': '/home/diaspedro/Downloads/favoritos_16_04_2020.html'}}\n"
     ]
    }
   ],
   "source": [
    "#Filtragem da lista para procurar o arquivo mais recente\n",
    "\n",
    "def most_recent_file():\n",
    "    conjA, conjB = {}, {}\n",
    "    for item in filter_files():\n",
    "        sufixo = str(item).split('/')[-1]\n",
    "        string_date = sufixo[10:-5].split('_')\n",
    "        this_date = date(year=int(string_date[-1]), month=int(string_date[-2]), day=int(string_date[-3]))\n",
    "        conjA.update({this_date: {\"path\": item, \"name\": sufixo}})\n",
    "    \n",
    "    maior_data = max(conjA)\n",
    "    for k_item, v_item in conjA.items():\n",
    "        if k_item == maior_data:\n",
    "            conjB.update({k_item: {\"position\": \"mais antigo\", \"name\": v_item['name'], \"path\": v_item['path']}})\n",
    "        else:\n",
    "            conjB.update({k_item: {\"position\": \"mais novo\", \"name\": v_item['name'], \"path\": v_item['path']}})\n",
    "\n",
    "    for k_item, v_item in conjB.items():\n",
    "        if v_item[\"position\"] == \"mais novo\":\n",
    "            return {\"date\": k_item, \"data\": conjB[k_item]}\n",
    "            \n",
    "\n",
    "teste = most_recent_file()\n",
    "print(teste)"
   ]
  }
 ],
 "metadata": {
  "interpreter": {
   "hash": "916dbcbb3f70747c44a77c7bcd40155683ae19c65e1c03b4aa3499c5328201f1"
  },
  "kernelspec": {
   "display_name": "Python 3.8.10 64-bit",
   "language": "python",
   "name": "python3"
  },
  "language_info": {
   "codemirror_mode": {
    "name": "ipython",
    "version": 3
   },
   "file_extension": ".py",
   "mimetype": "text/x-python",
   "name": "python",
   "nbconvert_exporter": "python",
   "pygments_lexer": "ipython3",
   "version": "3.8.10"
  },
  "orig_nbformat": 4
 },
 "nbformat": 4,
 "nbformat_minor": 2
}
